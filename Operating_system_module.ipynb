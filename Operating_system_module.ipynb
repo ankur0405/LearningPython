{
  "cells": [
    {
      "cell_type": "markdown",
      "metadata": {
        "id": "view-in-github",
        "colab_type": "text"
      },
      "source": [
        "<a href=\"https://colab.research.google.com/github/ankur0405/LearningPython/blob/main/Operating_system_module.ipynb\" target=\"_parent\"><img src=\"https://colab.research.google.com/assets/colab-badge.svg\" alt=\"Open In Colab\"/></a>"
      ]
    },
    {
      "cell_type": "markdown",
      "metadata": {
        "id": "Q2GJBlV0jsKO"
      },
      "source": [
        "# Operating system calls\n",
        "\n",
        "It's possible to use python to perform command line calls\n",
        "\n",
        "We can do this with the os module"
      ]
    },
    {
      "cell_type": "code",
      "execution_count": null,
      "metadata": {
        "id": "yHFXdNV5jsKQ"
      },
      "outputs": [],
      "source": [
        "import os"
      ]
    },
    {
      "cell_type": "markdown",
      "metadata": {
        "id": "GeD6fThAjsKS"
      },
      "source": [
        "## name of operating system\n",
        "\n",
        "We can get the operating system we're working on\n",
        "\n",
        "1. nt is windows\n",
        "2. posix is all unix based systems (Mac, Linux, ...)"
      ]
    },
    {
      "cell_type": "code",
      "execution_count": null,
      "metadata": {
        "id": "S3_my7yQjsKS"
      },
      "outputs": [],
      "source": [
        "print(os.name)\n",
        "\n",
        "my_os = os.name"
      ]
    },
    {
      "cell_type": "markdown",
      "metadata": {
        "id": "T0Cd5EWvjsKS"
      },
      "source": [
        "## working directory"
      ]
    },
    {
      "cell_type": "code",
      "execution_count": null,
      "metadata": {
        "id": "QDixShZCjsKS"
      },
      "outputs": [],
      "source": [
        "os.getcwd()"
      ]
    },
    {
      "cell_type": "code",
      "execution_count": null,
      "metadata": {
        "id": "5MMWTQCCjsKT"
      },
      "outputs": [],
      "source": [
        "print(os.getcwd())"
      ]
    },
    {
      "cell_type": "markdown",
      "metadata": {
        "id": "05KOtatujsKT"
      },
      "source": [
        "## contents of directory"
      ]
    },
    {
      "cell_type": "code",
      "execution_count": null,
      "metadata": {
        "id": "VqsEPxpFjsKT"
      },
      "outputs": [],
      "source": [
        "os.listdir('.')"
      ]
    },
    {
      "cell_type": "code",
      "execution_count": null,
      "metadata": {
        "id": "JCKPTSXJjsKT"
      },
      "outputs": [],
      "source": [
        "os.listdir('C:\\\\Users\\\\Dan\\\\Google Drive\\\\python course')"
      ]
    },
    {
      "cell_type": "markdown",
      "metadata": {
        "id": "7uNW4G_FjsKT"
      },
      "source": [
        "## make and rename directory"
      ]
    },
    {
      "cell_type": "code",
      "execution_count": null,
      "metadata": {
        "id": "rI_G21JMjsKU"
      },
      "outputs": [],
      "source": [
        "os.mkdir('C:\\\\Users\\\\Dan\\\\Google Drive\\\\python course\\\\new_dir')"
      ]
    },
    {
      "cell_type": "code",
      "execution_count": null,
      "metadata": {
        "id": "BQDFqNMTjsKU"
      },
      "outputs": [],
      "source": [
        "os.rename('C:\\\\Users\\\\Dan\\\\Google Drive\\\\python course\\\\new_dir','C:\\\\Users\\\\Dan\\\\Google Drive\\\\python course\\\\new_dir2')"
      ]
    },
    {
      "cell_type": "markdown",
      "metadata": {
        "id": "q1LnwLNXjsKU"
      },
      "source": [
        "## create and edit file"
      ]
    },
    {
      "cell_type": "code",
      "execution_count": null,
      "metadata": {
        "id": "bkt1g1SejsKU"
      },
      "outputs": [],
      "source": [
        "file = open('C:\\\\Users\\\\Dan\\\\Google Drive\\\\python course\\\\new_dir2\\\\myTXTfile.txt','w')\n",
        "file.write('hello\\n')\n",
        "file.write('world!')\n",
        "file.close()"
      ]
    },
    {
      "cell_type": "code",
      "execution_count": null,
      "metadata": {
        "id": "Ukj_OHUhjsKV"
      },
      "outputs": [],
      "source": []
    }
  ],
  "metadata": {
    "kernelspec": {
      "display_name": "Python 3",
      "language": "python",
      "name": "python3"
    },
    "language_info": {
      "codemirror_mode": {
        "name": "ipython",
        "version": 3
      },
      "file_extension": ".py",
      "mimetype": "text/x-python",
      "name": "python",
      "nbconvert_exporter": "python",
      "pygments_lexer": "ipython3",
      "version": "3.7.3"
    },
    "colab": {
      "provenance": [],
      "include_colab_link": true
    }
  },
  "nbformat": 4,
  "nbformat_minor": 0
}